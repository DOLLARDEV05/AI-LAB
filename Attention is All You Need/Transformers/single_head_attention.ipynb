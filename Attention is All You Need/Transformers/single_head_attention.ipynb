{
  "nbformat": 4,
  "nbformat_minor": 0,
  "metadata": {
    "colab": {
      "provenance": [],
      "authorship_tag": "ABX9TyNNX3Wsg7Xho72pNh9YdSpM",
      "include_colab_link": true
    },
    "kernelspec": {
      "name": "python3",
      "display_name": "Python 3"
    },
    "language_info": {
      "name": "python"
    }
  },
  "cells": [
    {
      "cell_type": "markdown",
      "metadata": {
        "id": "view-in-github",
        "colab_type": "text"
      },
      "source": [
        "<a href=\"https://colab.research.google.com/github/DOLLARDEV05/AI-LAB/blob/main/Attention%20is%20All%20You%20Need/Transformers/single_head_attention.ipynb\" target=\"_parent\"><img src=\"https://colab.research.google.com/assets/colab-badge.svg\" alt=\"Open In Colab\"/></a>"
      ]
    },
    {
      "cell_type": "code",
      "execution_count": 1,
      "metadata": {
        "id": "7VJMpX4pVY7F",
        "outputId": "8a077a6f-70eb-4961-d600-bf362eb9e51c",
        "colab": {
          "base_uri": "https://localhost:8080/"
        }
      },
      "outputs": [
        {
          "output_type": "stream",
          "name": "stdout",
          "text": [
            "Tokens: ['my', 'dog', 'is', 'a', 'lazy', 'dawg!']\n",
            "Vocab: {'my': 0, 'lazy': 1, 'dawg!': 2, 'a': 3, 'dog': 4, 'is': 5}\n",
            "Token IDs: [0 4 5 3 1 2]\n"
          ]
        }
      ],
      "source": [
        "import numpy as np\n",
        "\n",
        "sentence = \"My dog is a lazy dawg!\"\n",
        "\n",
        "tokens = sentence.lower().split()\n",
        "print(\"Tokens:\", tokens)\n",
        "\n",
        "vocab = {word: idx for idx, word in enumerate(set(tokens))}\n",
        "print(\"Vocab:\", vocab)\n",
        "\n",
        "token_ids = np.array([vocab[word] for word in tokens])\n",
        "print(\"Token IDs:\", token_ids)\n"
      ]
    },
    {
      "cell_type": "code",
      "source": [
        "# let's create some embeddings!\n",
        "\n",
        "d_model = 4\n",
        "\n",
        "# this will create a random matrix of small float values with dimension being\n",
        "# rows = length of the sentence/token list, columns being the dimension we set\n",
        "# that is the d_model = 4 where this is a hyperparameter, and for single head\n",
        "# attention this is d_model = Q = K = V\n",
        "embedding = np.random.rand(len(tokens),d_model)\n",
        "\n",
        "print(embedding)"
      ],
      "metadata": {
        "id": "-3v1CdbtWc9C",
        "outputId": "c00e4151-5240-493d-819f-37c34c6407a9",
        "colab": {
          "base_uri": "https://localhost:8080/"
        }
      },
      "execution_count": 2,
      "outputs": [
        {
          "output_type": "stream",
          "name": "stdout",
          "text": [
            "[[0.27064444 0.40691474 0.30218182 0.70027216]\n",
            " [0.78538329 0.81865222 0.73325928 0.85531961]\n",
            " [0.07303656 0.46161636 0.81293949 0.07031165]\n",
            " [0.78187511 0.30205625 0.51889201 0.65670206]\n",
            " [0.48348023 0.95997782 0.62813706 0.10745558]\n",
            " [0.82937072 0.28328431 0.11892493 0.3811553 ]]\n"
          ]
        }
      ]
    },
    {
      "cell_type": "code",
      "source": [
        "embedding_token = np.array([[embedding[vocab[token]]] for token in tokens])\n",
        "print(embedding_token)"
      ],
      "metadata": {
        "id": "fMoIlxdIPhan",
        "outputId": "88b87706-1741-4408-d04d-a4599d7ff94b",
        "colab": {
          "base_uri": "https://localhost:8080/"
        }
      },
      "execution_count": 3,
      "outputs": [
        {
          "output_type": "stream",
          "name": "stdout",
          "text": [
            "[[[0.27064444 0.40691474 0.30218182 0.70027216]]\n",
            "\n",
            " [[0.48348023 0.95997782 0.62813706 0.10745558]]\n",
            "\n",
            " [[0.82937072 0.28328431 0.11892493 0.3811553 ]]\n",
            "\n",
            " [[0.78187511 0.30205625 0.51889201 0.65670206]]\n",
            "\n",
            " [[0.78538329 0.81865222 0.73325928 0.85531961]]\n",
            "\n",
            " [[0.07303656 0.46161636 0.81293949 0.07031165]]]\n"
          ]
        }
      ]
    }
  ]
}