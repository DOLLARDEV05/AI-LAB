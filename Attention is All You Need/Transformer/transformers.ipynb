{
  "nbformat": 4,
  "nbformat_minor": 0,
  "metadata": {
    "colab": {
      "provenance": [],
      "authorship_tag": "ABX9TyMlc5lg52j0KpZ38Sva+Xuw",
      "include_colab_link": true
    },
    "kernelspec": {
      "name": "python3",
      "display_name": "Python 3"
    },
    "language_info": {
      "name": "python"
    }
  },
  "cells": [
    {
      "cell_type": "markdown",
      "metadata": {
        "id": "view-in-github",
        "colab_type": "text"
      },
      "source": [
        "<a href=\"https://colab.research.google.com/github/DOLLARDEV05/AI-LAB/blob/main/Attention%20is%20All%20You%20Need/Transformer/transformers.ipynb\" target=\"_parent\"><img src=\"https://colab.research.google.com/assets/colab-badge.svg\" alt=\"Open In Colab\"/></a>"
      ]
    },
    {
      "cell_type": "code",
      "execution_count": null,
      "metadata": {
        "colab": {
          "base_uri": "https://localhost:8080/"
        },
        "id": "Buasi1czqudB",
        "outputId": "5a51ee91-8cb0-49ed-e923-33e758d79684"
      },
      "outputs": [
        {
          "output_type": "stream",
          "name": "stdout",
          "text": [
            "let's begin working on understanding building a transformer from scratch!\n"
          ]
        }
      ],
      "source": [
        "print(\"let's begin working on understanding building a transformer from scratch!\")"
      ]
    },
    {
      "cell_type": "markdown",
      "source": [
        "let's first learn about #Dot #Product via a manual dot product!of 2 vectors!\n"
      ],
      "metadata": {
        "id": "CGewBogkthQh"
      }
    },
    {
      "cell_type": "code",
      "source": [
        "vector_1  = [1,3,5]\n",
        "vector_2 = [3,5,6]\n",
        "temp_number = 0\n",
        "\n",
        "if len(vector_1)==len(vector_2):\n",
        "  for numbers in range(len(vector_1)):\n",
        "    temp_number = temp_number + (vector_1[numbers] * vector_2[numbers])\n",
        "print(f\"the cross product is {temp_number}!\")\n",
        "\n",
        "# well somehow this is correct!"
      ],
      "metadata": {
        "colab": {
          "base_uri": "https://localhost:8080/"
        },
        "id": "jLgQvTRUtUVZ",
        "outputId": "672377e6-2e1a-4db3-e1b1-8d2c987be544"
      },
      "execution_count": null,
      "outputs": [
        {
          "output_type": "stream",
          "name": "stdout",
          "text": [
            "the cross product is 48!\n"
          ]
        }
      ]
    }
  ]
}