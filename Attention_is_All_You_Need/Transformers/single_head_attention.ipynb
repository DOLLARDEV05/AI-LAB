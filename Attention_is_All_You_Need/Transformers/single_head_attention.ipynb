{
  "nbformat": 4,
  "nbformat_minor": 0,
  "metadata": {
    "colab": {
      "provenance": [],
      "authorship_tag": "ABX9TyMDGkGevVHrZOJPyima1fhq",
      "include_colab_link": true
    },
    "kernelspec": {
      "name": "python3",
      "display_name": "Python 3"
    },
    "language_info": {
      "name": "python"
    }
  },
  "cells": [
    {
      "cell_type": "markdown",
      "metadata": {
        "id": "view-in-github",
        "colab_type": "text"
      },
      "source": [
        "<a href=\"https://colab.research.google.com/github/DOLLARDEV05/AI-LAB/blob/main/Attention%20is%20All%20You%20Need/Transformers/single_head_attention.ipynb\" target=\"_parent\"><img src=\"https://colab.research.google.com/assets/colab-badge.svg\" alt=\"Open In Colab\"/></a>"
      ]
    },
    {
      "cell_type": "code",
      "execution_count": 14,
      "metadata": {
        "id": "7VJMpX4pVY7F",
        "outputId": "00c4434d-e713-4231-e545-fb9467b210b5",
        "colab": {
          "base_uri": "https://localhost:8080/"
        }
      },
      "outputs": [
        {
          "output_type": "stream",
          "name": "stdout",
          "text": [
            "Tokens: ['my', 'dog', 'is', 'a', 'lazy', 'dawg!']\n",
            "Vocab: {'is': 0, 'my': 1, 'dawg!': 2, 'dog': 3, 'lazy': 4, 'a': 5}\n",
            "Token IDs: [1 3 0 5 4 2]\n"
          ]
        }
      ],
      "source": [
        "import numpy as np\n",
        "\n",
        "sentence = \"My dog is a lazy dawg!\"\n",
        "\n",
        "tokens = sentence.lower().split()\n",
        "print(\"Tokens:\", tokens)\n",
        "\n",
        "vocab = {word: idx for idx, word in enumerate(set(tokens))}\n",
        "print(\"Vocab:\", vocab)\n",
        "\n",
        "token_ids = np.array([vocab[word] for word in tokens])\n",
        "print(\"Token IDs:\", token_ids)\n"
      ]
    },
    {
      "cell_type": "code",
      "source": [
        "# let's create some embeddings!\n",
        "\n",
        "d_model = 4\n",
        "\n",
        "# this will create a random matrix of small float values with dimension being\n",
        "# rows = length of the sentence/token list, columns being the dimension we set\n",
        "# that is the d_model = 4 where this is a hyperparameter, and for single head\n",
        "# attention this is d_model = Q = K = V\n",
        "embedding = np.random.rand(len(tokens),d_model)\n",
        "\n",
        "print(embedding)"
      ],
      "metadata": {
        "id": "-3v1CdbtWc9C",
        "outputId": "c0741173-cd7d-45e9-a6a1-d318327162d4",
        "colab": {
          "base_uri": "https://localhost:8080/"
        }
      },
      "execution_count": 15,
      "outputs": [
        {
          "output_type": "stream",
          "name": "stdout",
          "text": [
            "[[0.2971035  0.79492616 0.60250917 0.17013277]\n",
            " [0.31570748 0.07792668 0.58472469 0.65704644]\n",
            " [0.93464365 0.95750308 0.7352807  0.21200516]\n",
            " [0.73433249 0.17522748 0.66015747 0.23828552]\n",
            " [0.64706101 0.96588552 0.30879194 0.25497137]\n",
            " [0.99267938 0.03707734 0.27253188 0.07905146]]\n"
          ]
        }
      ]
    },
    {
      "cell_type": "code",
      "source": [
        "embedding_token = np.array([embedding[vocab[token]] for token in tokens])\n",
        "print(embedding_token)"
      ],
      "metadata": {
        "id": "fMoIlxdIPhan",
        "outputId": "32103c70-16cf-4132-bd68-e9236df16635",
        "colab": {
          "base_uri": "https://localhost:8080/"
        }
      },
      "execution_count": 16,
      "outputs": [
        {
          "output_type": "stream",
          "name": "stdout",
          "text": [
            "[[0.31570748 0.07792668 0.58472469 0.65704644]\n",
            " [0.73433249 0.17522748 0.66015747 0.23828552]\n",
            " [0.2971035  0.79492616 0.60250917 0.17013277]\n",
            " [0.99267938 0.03707734 0.27253188 0.07905146]\n",
            " [0.64706101 0.96588552 0.30879194 0.25497137]\n",
            " [0.93464365 0.95750308 0.7352807  0.21200516]]\n"
          ]
        }
      ]
    },
    {
      "cell_type": "code",
      "source": [
        "# let's convert the maths of positional encoding into code successful\n",
        "\n",
        "import math\n",
        "\n",
        "for embedding in range(len(embedding_token)):\n",
        "  for value in range(d_model):\n",
        "    if value % 2 == 0:\n",
        "      temp = math.sin(embedding/10000**((2*value)/d_model))\n",
        "      embedding_token[embedding,value]=embedding_token[embedding,value]+temp\n",
        "    elif value % 2 == 1:\n",
        "      temp = math.cos(embedding/10000**((2*value)/d_model))\n",
        "      embedding_token[embedding,value]=embedding_token[embedding,value]+temp\n",
        "    else:\n",
        "      print(\"error\")\n",
        "print(embedding_token)"
      ],
      "metadata": {
        "id": "4GnTjTGQ25aa",
        "outputId": "8422f631-2175-4590-c6e2-6d3d63aaa229",
        "colab": {
          "base_uri": "https://localhost:8080/"
        }
      },
      "execution_count": 17,
      "outputs": [
        {
          "output_type": "stream",
          "name": "stdout",
          "text": [
            "[[ 0.31570748  1.07792668  0.58472469  1.65704644]\n",
            " [ 1.57580348  1.17517748  0.66025747  1.23828552]\n",
            " [ 1.20640092  1.79472617  0.60270917  1.17013277]\n",
            " [ 1.13379939  1.03662738  0.27283188  1.07905146]\n",
            " [-0.10974149  1.96508562  0.30919194  1.25497137]\n",
            " [-0.02428063  1.95625334  0.7357807   1.21200516]]\n"
          ]
        }
      ]
    }
  ]
}
