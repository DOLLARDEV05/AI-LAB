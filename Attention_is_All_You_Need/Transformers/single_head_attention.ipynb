{
  "nbformat": 4,
  "nbformat_minor": 0,
  "metadata": {
    "colab": {
      "provenance": [],
      "authorship_tag": "ABX9TyOmvo/I76jZgjDGnV+7bEDP",
      "include_colab_link": true
    },
    "kernelspec": {
      "name": "python3",
      "display_name": "Python 3"
    },
    "language_info": {
      "name": "python"
    }
  },
  "cells": [
    {
      "cell_type": "markdown",
      "metadata": {
        "id": "view-in-github",
        "colab_type": "text"
      },
      "source": [
        "<a href=\"https://colab.research.google.com/github/DOLLARDEV05/AI-LAB/blob/main/Attention_is_All_You_Need/Transformers/single_head_attention.ipynb\" target=\"_parent\"><img src=\"https://colab.research.google.com/assets/colab-badge.svg\" alt=\"Open In Colab\"/></a>"
      ]
    },
    {
      "cell_type": "code",
      "execution_count": 1,
      "metadata": {
        "id": "7VJMpX4pVY7F",
        "outputId": "7dae9045-ad40-4e7b-c3dd-b56859bb16ab",
        "colab": {
          "base_uri": "https://localhost:8080/"
        }
      },
      "outputs": [
        {
          "output_type": "stream",
          "name": "stdout",
          "text": [
            "Tokens: ['my', 'cat', 'is', 'lazy']\n",
            "Vocab: {'lazy': 0, 'cat': 1, 'is': 2, 'my': 3}\n",
            "Token IDs: [3 1 2 0]\n"
          ]
        }
      ],
      "source": [
        "import numpy as np\n",
        "\n",
        "sentence = \"My cat is lazy\"\n",
        "\n",
        "tokens = sentence.lower().split()\n",
        "print(\"Tokens:\", tokens)\n",
        "\n",
        "vocab = {word: idx for idx, word in enumerate(set(tokens))}\n",
        "print(\"Vocab:\", vocab)\n",
        "\n",
        "token_ids = np.array([vocab[word] for word in tokens])\n",
        "print(\"Token IDs:\", token_ids)\n"
      ]
    },
    {
      "cell_type": "code",
      "source": [
        "# let's create some embeddings!\n",
        "\n",
        "d_model = 4\n",
        "\n",
        "# this will create a random matrix of small float values with dimension being\n",
        "# rows = length of the sentence/token list, columns being the dimension we set\n",
        "# that is the d_model = 4 where this is a hyperparameter, and for single head\n",
        "# attention this is d_model = Q = K = V\n",
        "embedding = np.random.rand(len(tokens),d_model)\n",
        "\n",
        "print(embedding)"
      ],
      "metadata": {
        "id": "-3v1CdbtWc9C",
        "outputId": "4e5164a6-fa2d-485e-eb2b-621c798bcb47",
        "colab": {
          "base_uri": "https://localhost:8080/"
        }
      },
      "execution_count": 2,
      "outputs": [
        {
          "output_type": "stream",
          "name": "stdout",
          "text": [
            "[[0.27955275 0.15740985 0.58713083 0.94429896]\n",
            " [0.59527577 0.40765788 0.61334109 0.30343168]\n",
            " [0.62835687 0.95076768 0.76316043 0.09116549]\n",
            " [0.78187572 0.20650533 0.43900491 0.99186558]]\n"
          ]
        }
      ]
    },
    {
      "cell_type": "code",
      "source": [
        "embedding_token = np.array([embedding[vocab[token]] for token in tokens])\n",
        "print(embedding_token)"
      ],
      "metadata": {
        "id": "fMoIlxdIPhan",
        "outputId": "c802eb6d-cb33-499d-8ca9-37b9e558b950",
        "colab": {
          "base_uri": "https://localhost:8080/"
        }
      },
      "execution_count": 3,
      "outputs": [
        {
          "output_type": "stream",
          "name": "stdout",
          "text": [
            "[[0.78187572 0.20650533 0.43900491 0.99186558]\n",
            " [0.59527577 0.40765788 0.61334109 0.30343168]\n",
            " [0.62835687 0.95076768 0.76316043 0.09116549]\n",
            " [0.27955275 0.15740985 0.58713083 0.94429896]]\n"
          ]
        }
      ]
    },
    {
      "cell_type": "code",
      "source": [
        "# let's convert the maths of positional encoding into code successful\n",
        "\n",
        "import math\n",
        "\n",
        "for embedding in range(len(embedding_token)):\n",
        "  for value in range(d_model):\n",
        "    if value % 2 == 0:\n",
        "      temp = math.sin(embedding/10000**((2*(value//2))/d_model))\n",
        "      embedding_token[embedding,value]=embedding_token[embedding,value]+temp\n",
        "    elif value % 2 == 1:\n",
        "      temp = math.cos(embedding/10000**((2*(value//2))/d_model))\n",
        "      embedding_token[embedding,value]=embedding_token[embedding,value]+temp\n",
        "    else:\n",
        "      print(\"error\")\n",
        "print(embedding_token)"
      ],
      "metadata": {
        "id": "4GnTjTGQ25aa",
        "outputId": "d4887da3-d75b-43a8-9e56-002016e5a863",
        "colab": {
          "base_uri": "https://localhost:8080/"
        }
      },
      "execution_count": 4,
      "outputs": [
        {
          "output_type": "stream",
          "name": "stdout",
          "text": [
            "[[ 0.78187572  1.20650533  0.43900491  1.99186558]\n",
            " [ 1.43674676  0.94796019  0.62334093  1.30338168]\n",
            " [ 1.5376543   0.53462085  0.7831591   1.0909655 ]\n",
            " [ 0.42067275 -0.83258265  0.61712633  1.943849  ]]\n"
          ]
        }
      ]
    },
    {
      "cell_type": "code",
      "source": [
        "x = 0 // 2\n",
        "y = 1 // 2\n",
        "z = 2 // 2\n",
        "p = 3 // 2\n",
        "q = 4 // 2\n",
        "\n",
        "# how positional encoding uses floor division to have similar values given to the\n",
        "# sin and cos fuction to have pi/2 shifted sin and cos waves that also dipicts a\n",
        "# circle idk if this is necessary to mention here\n",
        "\n",
        "print(x,y,z,p,q)\n",
        "\n",
        "# was just showcasing where i was stuck in positional encoding and why it matter"
      ],
      "metadata": {
        "colab": {
          "base_uri": "https://localhost:8080/"
        },
        "id": "5sAVXWAssM0h",
        "outputId": "3dbc240a-3d4c-407c-f72e-372ee322e308"
      },
      "execution_count": 5,
      "outputs": [
        {
          "output_type": "stream",
          "name": "stdout",
          "text": [
            "0 0 1 1 2\n"
          ]
        }
      ]
    },
    {
      "cell_type": "code",
      "source": [
        "# let's work on making the weight matrix that will extract features from the\n",
        "# embedding matrix ! W_Q,W_K,W_V\n",
        "\n",
        "\n",
        "W_Q = np.random.rand(d_model,d_model)\n",
        "W_K = np.random.rand(d_model,d_model)\n",
        "W_V = np.random.rand(d_model,d_model)\n",
        "\n",
        "print(W_Q)\n",
        "print(W_K)\n",
        "print(W_V)"
      ],
      "metadata": {
        "colab": {
          "base_uri": "https://localhost:8080/"
        },
        "id": "GZHoI9NayTjz",
        "outputId": "a21552f4-15aa-46e1-ad9d-b7b9f58a5f51"
      },
      "execution_count": 8,
      "outputs": [
        {
          "output_type": "stream",
          "name": "stdout",
          "text": [
            "[[0.72873166 0.50975491 0.27944903 0.53790527]\n",
            " [0.73771901 0.11702697 0.39326878 0.9302899 ]\n",
            " [0.76522779 0.94886028 0.16822934 0.52165922]\n",
            " [0.80390318 0.41469672 0.38509278 0.64277087]]\n",
            "[[0.63029303 0.4728026  0.75799225 0.94956099]\n",
            " [0.87635421 0.74522781 0.39662107 0.81721073]\n",
            " [0.02541526 0.28001866 0.71364224 0.54610022]\n",
            " [0.27095926 0.05362236 0.57941191 0.79893838]]\n",
            "[[0.40730124 0.11242142 0.26928557 0.17089245]\n",
            " [0.94453613 0.49446403 0.41027834 0.46506908]\n",
            " [0.08458327 0.22210106 0.48706867 0.15678304]\n",
            " [0.91591896 0.26460957 0.57519865 0.42494554]]\n"
          ]
        }
      ]
    },
    {
      "cell_type": "code",
      "source": [
        "# multiplying the weighted matrix with the embedded_token to get Q K V matrices\n",
        "\n",
        "\n",
        "Q = embedding_token @ W_Q\n",
        "K = embedding_token @ W_K\n",
        "V = embedding_token @ W_V\n",
        "\n",
        "print(Q,\"\\n\\n\",K,\"\\n\\n\\n\",V)\n",
        "\n",
        "# i used the ** 1/2 or **0.5 which is fine for scalers and one time operations\n",
        "# but its better to use np.sqrt() which is faster for sqrting whole arrays!\n",
        "print((Q @ K.T)/d_model**(1/2))\n"
      ],
      "metadata": {
        "id": "rFL33XoezneV",
        "outputId": "bc12a6f2-fe7c-486c-d733-80c8433c7521",
        "colab": {
          "base_uri": "https://localhost:8080/"
        }
      },
      "execution_count": 12,
      "outputs": [
        {
          "output_type": "stream",
          "name": "stdout",
          "text": [
            "[[3.39704534 1.78233309 1.53388186 3.05229893]\n",
            " [3.27112158 1.97529718 1.38108775 2.81765877]\n",
            " [2.99126308 2.04192027 1.19181898 2.43424774]\n",
            " [1.72725413 1.50867983 0.64250881 1.02311802]] \n",
            "\n",
            " [[ 2.10100869  1.4985323   2.53858424  3.55952631]\n",
            " [ 2.10532607  1.63018139  2.66506117  3.52069017]\n",
            " [ 1.75320141  1.40322058  2.56858575  3.19629199]\n",
            " [ 0.07789811 -0.1445279   1.55534354  1.60908735]] \n",
            "\n",
            "\n",
            " [[3.31956673 1.30904322 2.06509478 1.60998791]\n",
            " [2.72708758 1.11358528 1.82913592 1.33799167]\n",
            " [2.19673535 0.89983644 1.64238561 1.09779613]\n",
            " [1.21754286 0.28703592 1.1903727  0.60746626]]\n",
            "[[12.28336607 12.44575109 11.07632843  3.6520777 ]\n",
            " [11.68411981 11.85382856 10.53010756  3.32562682]\n",
            " [10.51742748 10.68639358  9.47570351  2.85425225]\n",
            " [ 5.58132983  5.70513089  5.03287895  1.28105585]]\n"
          ]
        }
      ]
    }
  ]
}