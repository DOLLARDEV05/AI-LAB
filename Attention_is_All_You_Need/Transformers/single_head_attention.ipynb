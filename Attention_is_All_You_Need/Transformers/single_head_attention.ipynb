{
  "nbformat": 4,
  "nbformat_minor": 0,
  "metadata": {
    "colab": {
      "provenance": [],
      "authorship_tag": "ABX9TyMfYh3BT3Sje5bSoKguBm9j",
      "include_colab_link": true
    },
    "kernelspec": {
      "name": "python3",
      "display_name": "Python 3"
    },
    "language_info": {
      "name": "python"
    }
  },
  "cells": [
    {
      "cell_type": "markdown",
      "metadata": {
        "id": "view-in-github",
        "colab_type": "text"
      },
      "source": [
        "<a href=\"https://colab.research.google.com/github/DOLLARDEV05/AI-LAB/blob/main/Attention_is_All_You_Need/Transformers/single_head_attention.ipynb\" target=\"_parent\"><img src=\"https://colab.research.google.com/assets/colab-badge.svg\" alt=\"Open In Colab\"/></a>"
      ]
    },
    {
      "cell_type": "code",
      "execution_count": 184,
      "metadata": {
        "id": "7VJMpX4pVY7F",
        "outputId": "157f014f-48f9-41d6-b741-e31405866688",
        "colab": {
          "base_uri": "https://localhost:8080/"
        }
      },
      "outputs": [
        {
          "output_type": "stream",
          "name": "stdout",
          "text": [
            "Tokens: ['my', 'cat', 'is', 'lazy']\n",
            "Vocab: {'my': 0, 'cat': 1, 'lazy': 2, 'is': 3}\n",
            "Token IDs: [0 1 3 2]\n"
          ]
        }
      ],
      "source": [
        "import numpy as np\n",
        "\n",
        "sentence = \"My cat is lazy\"\n",
        "\n",
        "tokens = sentence.lower().split()\n",
        "print(\"Tokens:\", tokens)\n",
        "\n",
        "vocab = {word: idx for idx, word in enumerate(set(tokens))}\n",
        "print(\"Vocab:\", vocab)\n",
        "\n",
        "token_ids = np.array([vocab[word] for word in tokens])\n",
        "print(\"Token IDs:\", token_ids)\n"
      ]
    },
    {
      "cell_type": "code",
      "source": [
        "# let's create some embeddings!\n",
        "\n",
        "d_model = 4\n",
        "\n",
        "# this will create a random matrix of small float values with dimension being\n",
        "# rows = length of the sentence/token list, columns being the dimension we set\n",
        "# that is the d_model = 4 where this is a hyperparameter, and for single head\n",
        "# attention this is d_model = Q = K = V\n",
        "embedding = np.random.rand(len(tokens),d_model)\n",
        "\n",
        "print(embedding)"
      ],
      "metadata": {
        "id": "-3v1CdbtWc9C",
        "outputId": "5e190519-c8cb-407b-c891-e5fe8daf2842",
        "colab": {
          "base_uri": "https://localhost:8080/"
        }
      },
      "execution_count": 185,
      "outputs": [
        {
          "output_type": "stream",
          "name": "stdout",
          "text": [
            "[[0.98063813 0.09958648 0.57845743 0.31143563]\n",
            " [0.34093646 0.22027438 0.81974958 0.57372082]\n",
            " [0.64445804 0.63078155 0.40901934 0.72895244]\n",
            " [0.79276287 0.24375449 0.72642809 0.45066872]]\n"
          ]
        }
      ]
    },
    {
      "cell_type": "code",
      "source": [
        "embedding_token = np.array([embedding[vocab[token]] for token in tokens])\n",
        "print(embedding_token)"
      ],
      "metadata": {
        "id": "fMoIlxdIPhan",
        "outputId": "dab6df6f-2793-4c99-d834-b03a96e83916",
        "colab": {
          "base_uri": "https://localhost:8080/"
        }
      },
      "execution_count": 186,
      "outputs": [
        {
          "output_type": "stream",
          "name": "stdout",
          "text": [
            "[[0.98063813 0.09958648 0.57845743 0.31143563]\n",
            " [0.34093646 0.22027438 0.81974958 0.57372082]\n",
            " [0.79276287 0.24375449 0.72642809 0.45066872]\n",
            " [0.64445804 0.63078155 0.40901934 0.72895244]]\n"
          ]
        }
      ]
    },
    {
      "cell_type": "code",
      "source": [
        "# let's convert the maths of positional encoding into code successful\n",
        "\n",
        "import math\n",
        "\n",
        "for embedding in range(len(embedding_token)):\n",
        "  for value in range(d_model):\n",
        "    if value % 2 == 0:\n",
        "      temp = math.sin(embedding/10000**((2*(value//2))/d_model))\n",
        "      embedding_token[embedding,value]=embedding_token[embedding,value]+temp\n",
        "    elif value % 2 == 1:\n",
        "      temp = math.cos(embedding/10000**((2*(value//2))/d_model))\n",
        "      embedding_token[embedding,value]=embedding_token[embedding,value]+temp\n",
        "    else:\n",
        "      print(\"error\")\n",
        "print(embedding_token)"
      ],
      "metadata": {
        "id": "4GnTjTGQ25aa",
        "outputId": "b407ee13-9bba-4a41-c8e4-79efd4416396",
        "colab": {
          "base_uri": "https://localhost:8080/"
        }
      },
      "execution_count": 187,
      "outputs": [
        {
          "output_type": "stream",
          "name": "stdout",
          "text": [
            "[[ 0.98063813  1.09958648  0.57845743  1.31143563]\n",
            " [ 1.18240744  0.76057669  0.82974941  1.57367082]\n",
            " [ 1.70206029 -0.17239235  0.74642676  1.45046873]\n",
            " [ 0.78557805 -0.35921095  0.43901484  1.72850248]]\n"
          ]
        }
      ]
    },
    {
      "cell_type": "code",
      "source": [
        "x = 0 // 2\n",
        "y = 1 // 2\n",
        "z = 2 // 2\n",
        "p = 3 // 2\n",
        "q = 4 // 2\n",
        "\n",
        "# how positional encoding uses floor division to have similar values given to the\n",
        "# sin and cos fuction to have pi/2 shifted sin and cos waves that also dipicts a\n",
        "# circle idk if this is necessary to mention here\n",
        "\n",
        "print(x,y,z,p,q)\n",
        "\n",
        "# was just showcasing where i was stuck in positional encoding and why it matter"
      ],
      "metadata": {
        "colab": {
          "base_uri": "https://localhost:8080/"
        },
        "id": "5sAVXWAssM0h",
        "outputId": "53ce3179-9d9d-4651-d828-508bd653f6cd"
      },
      "execution_count": 188,
      "outputs": [
        {
          "output_type": "stream",
          "name": "stdout",
          "text": [
            "0 0 1 1 2\n"
          ]
        }
      ]
    },
    {
      "cell_type": "code",
      "source": [
        "# let's work on making the weight matrix that will extract features from the\n",
        "# embedding matrix ! W_Q,W_K,W_V\n",
        "\n",
        "\n",
        "W_Q = np.random.rand(d_model,d_model)\n",
        "W_K = np.random.rand(d_model,d_model)\n",
        "W_V = np.random.rand(d_model,d_model)\n",
        "\n",
        "print(W_Q)\n",
        "print(W_K)\n",
        "print(W_V)"
      ],
      "metadata": {
        "colab": {
          "base_uri": "https://localhost:8080/"
        },
        "id": "GZHoI9NayTjz",
        "outputId": "f22e99ff-7c28-427e-b998-6d2a699b7981"
      },
      "execution_count": 189,
      "outputs": [
        {
          "output_type": "stream",
          "name": "stdout",
          "text": [
            "[[0.85231453 0.94431803 0.30053865 0.34504288]\n",
            " [0.68964868 0.67961939 0.60620592 0.13620461]\n",
            " [0.52496047 0.76510726 0.64042976 0.7756089 ]\n",
            " [0.71159255 0.17034381 0.65759754 0.25798457]]\n",
            "[[0.04093992 0.9197648  0.85635628 0.68112822]\n",
            " [0.83963663 0.69882936 0.06385275 0.77309459]\n",
            " [0.02190291 0.57101023 0.99797355 0.11747469]\n",
            " [0.78211118 0.78940167 0.79993567 0.81702086]]\n",
            "[[0.1075652  0.52060901 0.88999735 0.03807851]\n",
            " [0.99865133 0.07178732 0.45351022 0.22891828]\n",
            " [0.3664555  0.30055749 0.02384282 0.32389847]\n",
            " [0.35052758 0.43751403 0.5931113  0.56920116]]\n"
          ]
        }
      ]
    },
    {
      "cell_type": "code",
      "source": [
        "# multiplying the weighted matrix with the embedded_token to get Q K V matrices\n",
        "\n",
        "\n",
        "Q = embedding_token @ W_Q\n",
        "K = embedding_token @ W_K\n",
        "V = embedding_token @ W_V\n",
        "\n",
        "print(Q,\"\\n\\n\",K,\"\\n\\n\\n\",V,\"\\n\\n\\n\\n\")\n",
        "\n",
        "# i used the ** 1/2 or **0.5 which is fine for scalers and one time operations\n",
        "# but its better to use np.sqrt() which is faster for sqrting whole arrays!\n",
        "# print((Q @ K.T)/d_model**(1/2))\n",
        "pre_softmax = (Q @ K.T)/np.sqrt(d_model)\n",
        "\n",
        "print(pre_softmax)"
      ],
      "metadata": {
        "colab": {
          "base_uri": "https://localhost:8080/"
        },
        "id": "rFL33XoezneV",
        "outputId": "f3d434dc-40ae-4fcc-921d-64e43bdbad7b"
      },
      "execution_count": 190,
      "outputs": [
        {
          "output_type": "stream",
          "name": "stdout",
          "text": [
            "[[2.8310156  2.33931147 2.19415369 1.27511784]\n",
            " [3.08771183 2.53638371 2.38266351 1.56111915]\n",
            " [2.75578785 2.30829994 1.83888822 1.51693695]\n",
            " [1.88228515 1.12804192 1.43615791 1.00856271]] \n",
            "\n",
            " [[2.0017587  3.03593434 2.5363366  2.65744904]\n",
            " [1.93597517 3.33510385 3.14803035 2.77656524]\n",
            " [1.075712   3.01624207 3.35175814 2.29879517]\n",
            " [1.09205164 2.08668459 2.47061407 1.72117106]] \n",
            "\n",
            "\n",
            " [[1.8752593  1.33709661 2.1630584  1.22288884]\n",
            " [1.74241807 1.6080622  2.35041431 1.38362404]\n",
            " [0.79288408 1.73267692 2.31473377 1.09272312]\n",
            " [0.49254155 1.27138551 1.57191825 1.07374553]] \n",
            "\n",
            "\n",
            "\n",
            "\n",
            "[[10.86133957 11.86516647 10.19339719  7.79431168]\n",
            " [12.03648982 13.13604136 11.27332043  8.61908432]\n",
            " [10.60974574 11.5171536   9.78873066  7.49012382]\n",
            " [ 6.75766288  7.36380157  6.27968864  4.84676059]]\n"
          ]
        }
      ]
    },
    {
      "cell_type": "code",
      "source": [
        "# let's recreate softmax from scratch using only numpy and convert these vectors\n",
        "# into attention scores that our model can use!\n",
        "\n",
        "# done with row max subtraction for each element (was checking row max each\n",
        "# iterations which caused all values other than 1st getting zeroed)\n",
        "\n",
        "# we dont sum all row values and then exponent rather we sum the exponent of\n",
        "# individual values then divide\n",
        "\n",
        "\n",
        "for vector in pre_softmax:\n",
        "  row_max = np.max(vector,axis=0)\n",
        "  for element in range(len(vector)):\n",
        "    vector[element] = np.exp(vector[element] - row_max)\n",
        "  vector /= np.sum(vector)\n",
        "\n",
        "\n",
        "softmax = pre_softmax.copy()\n",
        "print(softmax)\n"
      ],
      "metadata": {
        "id": "NCZT49Ea6jl9",
        "outputId": "8b12a1dd-825d-4e4f-8181-f95ffe326ef6",
        "colab": {
          "base_uri": "https://localhost:8080/"
        }
      },
      "execution_count": 191,
      "outputs": [
        {
          "output_type": "stream",
          "name": "stdout",
          "text": [
            "[[0.23320753 0.63635439 0.11958009 0.01085799]\n",
            " [0.22213322 0.66702586 0.10355552 0.0072854 ]\n",
            " [0.2523946  0.62540636 0.11104979 0.01114925]\n",
            " [0.27767568 0.50907356 0.17216952 0.04108124]]\n"
          ]
        }
      ]
    },
    {
      "cell_type": "code",
      "source": [
        "# final attention mechanism done\n",
        "attention = softmax @ V\n",
        "\n",
        "print(attention)"
      ],
      "metadata": {
        "colab": {
          "base_uri": "https://localhost:8080/"
        },
        "id": "Q-I2rh52OlgX",
        "outputId": "2c4c2319-7a87-4773-d7a6-f4d037d59647"
      },
      "execution_count": 192,
      "outputs": [
        {
          "output_type": "stream",
          "name": "stdout",
          "text": [
            "[[1.64628114 1.55611679 2.29400192 1.30798877]\n",
            " [1.66449118 1.55832346 2.29942977 1.31553743]\n",
            " [1.65656574 1.5497567  2.29048473 1.30729595]\n",
            " [1.56447756 1.54044541 2.26026545 1.27617732]]\n"
          ]
        }
      ]
    },
    {
      "cell_type": "code",
      "source": [
        "# flow diagram gpt code generated\n",
        "\n",
        "import matplotlib.pyplot as plt\n",
        "import matplotlib.patches as patches\n",
        "\n",
        "fig, ax = plt.subplots(figsize=(10,6))\n",
        "\n",
        "# Draw boxes\n",
        "ax.add_patch(patches.Rectangle((0.1, 0.6), 0.2, 0.2, fill=True, edgecolor=\"black\", facecolor=\"#ADD8E6\"))\n",
        "ax.text(0.2, 0.7, \"Q\", ha=\"center\", va=\"center\", fontsize=14, weight=\"bold\")\n",
        "\n",
        "ax.add_patch(patches.Rectangle((0.1, 0.35), 0.2, 0.2, fill=True, edgecolor=\"black\", facecolor=\"#90EE90\"))\n",
        "ax.text(0.2, 0.45, \"K\", ha=\"center\", va=\"center\", fontsize=14, weight=\"bold\")\n",
        "\n",
        "ax.add_patch(patches.Rectangle((0.1, 0.1), 0.2, 0.2, fill=True, edgecolor=\"black\", facecolor=\"#FFB6C1\"))\n",
        "ax.text(0.2, 0.2, \"V\", ha=\"center\", va=\"center\", fontsize=14, weight=\"bold\")\n",
        "\n",
        "# Softmax box\n",
        "ax.add_patch(patches.Rectangle((0.5, 0.5), 0.2, 0.2, fill=True, edgecolor=\"black\", facecolor=\"#FFD580\"))\n",
        "ax.text(0.6, 0.6, \"Softmax\", ha=\"center\", va=\"center\", fontsize=12, weight=\"bold\")\n",
        "\n",
        "# Output box\n",
        "ax.add_patch(patches.Rectangle((0.8, 0.5), 0.15, 0.2, fill=True, edgecolor=\"black\", facecolor=\"#DDA0DD\"))\n",
        "ax.text(0.875, 0.6, \"Output\", ha=\"center\", va=\"center\", fontsize=12, weight=\"bold\")\n",
        "\n",
        "# Arrows\n",
        "ax.annotate(\"\", xy=(0.5, 0.65), xytext=(0.3, 0.7), arrowprops=dict(arrowstyle=\"->\", lw=2))\n",
        "ax.annotate(\"\", xy=(0.5, 0.65), xytext=(0.3, 0.45), arrowprops=dict(arrowstyle=\"->\", lw=2))\n",
        "ax.annotate(\"\", xy=(0.5, 0.55), xytext=(0.3, 0.2), arrowprops=dict(arrowstyle=\"->\", lw=2))\n",
        "ax.annotate(\"\", xy=(0.8, 0.6), xytext=(0.7, 0.6), arrowprops=dict(arrowstyle=\"->\", lw=2))\n",
        "\n",
        "ax.axis(\"off\")\n",
        "plt.title(\"Single-Head Attention Flow\", fontsize=16, weight=\"bold\")\n",
        "plt.show()\n"
      ],
      "metadata": {
        "id": "p4F_BGYGQP7w",
        "outputId": "6b664932-a41d-4a5b-e890-6c464ffc3822",
        "colab": {
          "base_uri": "https://localhost:8080/",
          "height": 418
        }
      },
      "execution_count": 193,
      "outputs": [
        {
          "output_type": "display_data",
          "data": {
            "text/plain": [
              "<Figure size 1000x600 with 1 Axes>"
            ],
            "image/png": "[encoded data removed]"
          },
          "metadata": {}
        }
      ]
    }
  ]
}