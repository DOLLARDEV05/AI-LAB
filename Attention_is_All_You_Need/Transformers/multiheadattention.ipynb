{
  "nbformat": 4,
  "nbformat_minor": 0,
  "metadata": {
    "colab": {
      "provenance": [],
      "authorship_tag": "ABX9TyO/czKOphJ0/5sCyJ7W87nH",
      "include_colab_link": true
    },
    "kernelspec": {
      "name": "python3",
      "display_name": "Python 3"
    },
    "language_info": {
      "name": "python"
    }
  },
  "cells": [
    {
      "cell_type": "markdown",
      "metadata": {
        "id": "view-in-github",
        "colab_type": "text"
      },
      "source": [
        "<a href=\"https://colab.research.google.com/github/DOLLARDEV05/AI-LAB/blob/main/Attention_is_All_You_Need/Transformers/multiheadattention.ipynb\" target=\"_parent\"><img src=\"https://colab.research.google.com/assets/colab-badge.svg\" alt=\"Open In Colab\"/></a>"
      ]
    },
    {
      "cell_type": "code",
      "execution_count": 14,
      "metadata": {
        "colab": {
          "base_uri": "https://localhost:8080/"
        },
        "id": "mSjzMpz1K2cK",
        "outputId": "e8239032-e826-40db-fc1d-830fc2f8b815"
      },
      "outputs": [
        {
          "output_type": "stream",
          "name": "stdout",
          "text": [
            "hello multihead attention\n"
          ]
        }
      ],
      "source": [
        "print(\"hello multihead attention\")"
      ]
    },
    {
      "cell_type": "code",
      "source": [
        "import numpy as np\n",
        "import math\n",
        "\n",
        "sentence = \"My cat is lazy\"\n",
        "\n",
        "tokens = sentence.lower().split()\n",
        "\n",
        "vocab = {word: idx for idx, word in enumerate(set(tokens))}\n",
        "\n",
        "token_ids = np.array([vocab[word] for word in tokens])\n",
        "\n",
        "d_v = 4\n",
        "d_k = 4\n",
        "embedding = np.random.rand(len(tokens),d_k)\n",
        "\n",
        "embedding_token = np.array([embedding[vocab[token]] for token in tokens])\n",
        "\n",
        "\n",
        "for embedding in range(len(embedding_token)):\n",
        "  for value in range(d_k):\n",
        "    if value % 2 == 0:\n",
        "      temp = math.sin(embedding/10000**((2*(value//2))/d_k))\n",
        "      embedding_token[embedding,value]=embedding_token[embedding,value]+temp\n",
        "    elif value % 2 == 1:\n",
        "      temp = math.cos(embedding/10000**((2*(value//2))/d_k))\n",
        "      embedding_token[embedding,value]=embedding_token[embedding,value]+temp\n",
        "    else:\n",
        "      print(\"error\")\n",
        "\n",
        "W_Q = np.random.rand(d_k,d_k)\n",
        "W_K = np.random.rand(d_k,d_k)\n",
        "W_V = np.random.rand(d_k,d_v)\n",
        "\n",
        "\n",
        "Q1 = embedding_token @ W_Q\n",
        "K1 = embedding_token @ W_K\n",
        "V1 = embedding_token @ W_V\n",
        "\n",
        "pre_softmax = (Q1 @ K1.T)/np.sqrt(d_k)\n",
        "\n",
        "for vector in pre_softmax:\n",
        "  row_max = np.max(vector,axis=0)\n",
        "  for element in range(len(vector)):\n",
        "    vector[element] = np.exp(vector[element] - row_max)\n",
        "  vector /= np.sum(vector)\n",
        "\n",
        "softmax = pre_softmax.copy()\n",
        "attention1 = softmax @ V1\n"
      ],
      "metadata": {
        "id": "gIrny2mfK7fO"
      },
      "execution_count": 15,
      "outputs": []
    },
    {
      "cell_type": "code",
      "source": [
        "# next steps make two single head attention work in parallel\n",
        "# and also make the simple logic of hstacking the outputs of each head and then\n",
        "# matmul with the weighted matrix Wo. that is it for the multi head!"
      ],
      "metadata": {
        "id": "dOC5ACgsSL4g"
      },
      "execution_count": 16,
      "outputs": []
    },
    {
      "cell_type": "code",
      "source": [
        "import numpy as np\n",
        "import math\n",
        "\n",
        "sentence = \"My cat is lazy\"\n",
        "\n",
        "tokens = sentence.lower().split()\n",
        "\n",
        "vocab = {word: idx for idx, word in enumerate(set(tokens))}\n",
        "\n",
        "token_ids = np.array([vocab[word] for word in tokens])\n",
        "\n",
        "d_k = 4\n",
        "d_v = 4\n",
        "embedding = np.random.rand(len(tokens),d_k)\n",
        "\n",
        "embedding_token = np.array([embedding[vocab[token]] for token in tokens])\n",
        "\n",
        "\n",
        "for embedding in range(len(embedding_token)):\n",
        "  for value in range(d_k):\n",
        "    if value % 2 == 0:\n",
        "      temp = math.sin(embedding/10000**((2*(value//2))/d_k))\n",
        "      embedding_token[embedding,value]=embedding_token[embedding,value]+temp\n",
        "    elif value % 2 == 1:\n",
        "      temp = math.cos(embedding/10000**((2*(value//2))/d_k))\n",
        "      embedding_token[embedding,value]=embedding_token[embedding,value]+temp\n",
        "    else:\n",
        "      print(\"error\")\n",
        "\n",
        "W_Q2 = np.random.rand(d_k,d_k)\n",
        "W_K2 = np.random.rand(d_k,d_k)\n",
        "W_V2 = np.random.rand(d_k,d_v)\n",
        "\n",
        "\n",
        "Q2 = embedding_token @ W_Q2\n",
        "K2 = embedding_token @ W_K2\n",
        "V2 = embedding_token @ W_V2\n",
        "\n",
        "pre_softmax2 = (Q2 @ K2.T)/np.sqrt(d_k)\n",
        "\n",
        "for vector in pre_softmax2:\n",
        "  row_max = np.max(vector,axis=0)\n",
        "  for element in range(len(vector)):\n",
        "    vector[element] = np.exp(vector[element] - row_max)\n",
        "  vector /= np.sum(vector)\n",
        "\n",
        "\n",
        "softmax2 = pre_softmax2.copy()\n",
        "attention2 = softmax2 @ V2\n",
        "print(attention1,\"\\n\\n\\n\\n\\n\",attention2)"
      ],
      "metadata": {
        "id": "Kn9RlpsZYxW8",
        "outputId": "b90395ad-c956-433f-ed5d-75e60371f350",
        "colab": {
          "base_uri": "https://localhost:8080/"
        }
      },
      "execution_count": 17,
      "outputs": [
        {
          "output_type": "stream",
          "name": "stdout",
          "text": [
            "[[3.19622079 3.08819507 3.01143329 2.17384355]\n",
            " [3.20543865 3.09960205 3.02361909 2.18359652]\n",
            " [3.05533055 2.96778048 2.81219874 2.04217981]\n",
            " [3.03252074 2.9429619  2.7809058  2.01893778]] \n",
            "\n",
            "\n",
            "\n",
            "\n",
            " [[3.04407154 1.42306164 2.91532602 1.83015131]\n",
            " [3.06676737 1.43097474 2.95113814 1.8511011 ]\n",
            " [3.06798119 1.43399075 2.94216936 1.84704184]\n",
            " [2.99225527 1.39525724 2.86762299 1.79837031]]\n"
          ]
        }
      ]
    },
    {
      "cell_type": "code",
      "source": [
        "# let's build multihead attention using these 2 single heads\n",
        "d_model = 8\n",
        "head_count = 2\n",
        "multihead_concat = np.hstack((attention1,attention2))\n",
        "Wo = np.random.rand((d_v*head_count),d_model)\n",
        "twohead_attention = multihead_concat @ Wo\n",
        "\n",
        "print(twohead_attention)\n"
      ],
      "metadata": {
        "id": "eSSWShmBI7M4",
        "outputId": "c201587e-a1b5-45ba-f3fc-e26d0e153e69",
        "colab": {
          "base_uri": "https://localhost:8080/"
        }
      },
      "execution_count": 18,
      "outputs": [
        {
          "output_type": "stream",
          "name": "stdout",
          "text": [
            "[[13.79048442 10.63162644  9.97923988 11.42330476  9.15735701  9.41447057\n",
            "  12.17245109 10.94016995]\n",
            " [13.88721421 10.69622733 10.04279074 11.49350904  9.19967572  9.46412848\n",
            "  12.25260762 10.99284277]\n",
            " [13.48431392 10.36822137  9.69914249 11.0961861   8.83482279  9.09775769\n",
            "  11.89271088 10.58338483]\n",
            " [13.23210711 10.19115211  9.54386041 10.91103372  8.71521751  8.97757714\n",
            "  11.68903241 10.42805158]]\n"
          ]
        }
      ]
    }
  ]
}