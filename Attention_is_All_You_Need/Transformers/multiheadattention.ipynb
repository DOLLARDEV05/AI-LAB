{
  "nbformat": 4,
  "nbformat_minor": 0,
  "metadata": {
    "colab": {
      "provenance": [],
      "authorship_tag": "ABX9TyPg5fgstKY+1b5E/qHw0xW/",
      "include_colab_link": true
    },
    "kernelspec": {
      "name": "python3",
      "display_name": "Python 3"
    },
    "language_info": {
      "name": "python"
    }
  },
  "cells": [
    {
      "cell_type": "markdown",
      "metadata": {
        "id": "view-in-github",
        "colab_type": "text"
      },
      "source": [
        "<a href=\"https://colab.research.google.com/github/DOLLARDEV05/AI-LAB/blob/main/Attention_is_All_You_Need/Transformers/multiheadattention.ipynb\" target=\"_parent\"><img src=\"https://colab.research.google.com/assets/colab-badge.svg\" alt=\"Open In Colab\"/></a>"
      ]
    },
    {
      "cell_type": "code",
      "source": [
        "import numpy as np\n",
        "import math\n",
        "\n",
        "sentence = \"My cat is lazy\"\n",
        "\n",
        "tokens = sentence.lower().split()\n",
        "\n",
        "vocab = {word: idx for idx, word in enumerate(set(tokens))}\n",
        "\n",
        "token_ids = np.array([vocab[word] for word in tokens])\n",
        "\n",
        "d_v = 4\n",
        "d_k = 4\n",
        "embedding = np.random.rand(len(tokens),d_k)\n",
        "\n",
        "embedding_token = np.array([embedding[vocab[token]] for token in tokens])\n",
        "\n",
        "\n",
        "for embedding in range(len(embedding_token)):\n",
        "  for value in range(d_k):\n",
        "    if value % 2 == 0:\n",
        "      temp = math.sin(embedding/10000**((2*(value//2))/d_k))\n",
        "      embedding_token[embedding,value]=embedding_token[embedding,value]+temp\n",
        "    elif value % 2 == 1:\n",
        "      temp = math.cos(embedding/10000**((2*(value//2))/d_k))\n",
        "      embedding_token[embedding,value]=embedding_token[embedding,value]+temp\n",
        "    else:\n",
        "      print(\"error\")\n",
        "\n",
        "W_Q = np.random.rand(d_k,d_k)\n",
        "W_K = np.random.rand(d_k,d_k)\n",
        "W_V = np.random.rand(d_k,d_v)\n",
        "\n",
        "\n",
        "Q1 = embedding_token @ W_Q\n",
        "K1 = embedding_token @ W_K\n",
        "V1 = embedding_token @ W_V\n",
        "\n",
        "pre_softmax = (Q1 @ K1.T)/np.sqrt(d_k)\n",
        "\n",
        "for vector in pre_softmax:\n",
        "  row_max = np.max(vector,axis=0)\n",
        "  for element in range(len(vector)):\n",
        "    vector[element] = np.exp(vector[element] - row_max)\n",
        "  vector /= np.sum(vector)\n",
        "\n",
        "softmax = pre_softmax.copy()\n",
        "attention1 = softmax @ V1\n"
      ],
      "metadata": {
        "id": "gIrny2mfK7fO"
      },
      "execution_count": 5,
      "outputs": []
    },
    {
      "cell_type": "code",
      "source": [
        "# next steps make two single head attention work in parallel\n",
        "# and also make the simple logic of hstacking the outputs of each head and then\n",
        "# matmul with the weighted matrix Wo. that is it for the multi head!"
      ],
      "metadata": {
        "id": "dOC5ACgsSL4g"
      },
      "execution_count": 6,
      "outputs": []
    },
    {
      "cell_type": "code",
      "source": [
        "\n",
        "d_k = 4\n",
        "d_v = 4\n",
        "embedding2 = np.random.rand(len(tokens),d_k)\n",
        "\n",
        "embedding_token2 = np.array([embedding2[vocab[token]] for token in tokens])\n",
        "\n",
        "\n",
        "for embedding2 in range(len(embedding_token2)):\n",
        "  for value in range(d_k):\n",
        "    if value % 2 == 0:\n",
        "      temp = math.sin(embedding2/10000**((2*(value//2))/d_k))\n",
        "      embedding_token2[embedding2,value]=embedding_token2[embedding2,value]+temp\n",
        "    elif value % 2 == 1:\n",
        "      temp = math.cos(embedding2/10000**((2*(value//2))/d_k))\n",
        "      embedding_token2[embedding2,value]=embedding_token2[embedding2,value]+temp\n",
        "    else:\n",
        "      print(\"error\")\n",
        "\n",
        "W_Q2 = np.random.rand(d_k,d_k)\n",
        "W_K2 = np.random.rand(d_k,d_k)\n",
        "W_V2 = np.random.rand(d_k,d_v)\n",
        "\n",
        "\n",
        "Q2 = embedding_token2 @ W_Q2\n",
        "K2 = embedding_token2 @ W_K2\n",
        "V2 = embedding_token2 @ W_V2\n",
        "\n",
        "pre_softmax2 = (Q2 @ K2.T)/np.sqrt(d_k)\n",
        "\n",
        "for vector in pre_softmax2:\n",
        "  row_max = np.max(vector,axis=0)\n",
        "  for element in range(len(vector)):\n",
        "    vector[element] = np.exp(vector[element] - row_max)\n",
        "  vector /= np.sum(vector)\n",
        "\n",
        "\n",
        "softmax2 = pre_softmax2.copy()\n",
        "attention2 = softmax2 @ V2\n",
        "print(attention1,\"\\n\\n\\n\\n\\n\",attention2)"
      ],
      "metadata": {
        "id": "Kn9RlpsZYxW8",
        "outputId": "e7343fe8-1349-484c-e083-8c3d5657ad3a",
        "colab": {
          "base_uri": "https://localhost:8080/"
        }
      },
      "execution_count": 7,
      "outputs": [
        {
          "output_type": "stream",
          "name": "stdout",
          "text": [
            "[[2.19409185 1.58922412 2.25522745 2.08584429]\n",
            " [2.27062565 1.63884744 2.4192945  2.19322497]\n",
            " [2.23362436 1.61686817 2.37395346 2.16136552]\n",
            " [2.13661529 1.55915869 2.21926085 2.0584711 ]] \n",
            "\n",
            "\n",
            "\n",
            "\n",
            " [[2.47268497 2.31069329 2.62598169 0.98362336]\n",
            " [2.48078339 2.3159054  2.64201373 0.98818159]\n",
            " [2.48097775 2.31514981 2.64237559 0.98795207]\n",
            " [2.44119944 2.28823406 2.56368836 0.96456375]]\n"
          ]
        }
      ]
    },
    {
      "cell_type": "code",
      "source": [
        "# let's build multihead attention using these 2 single heads\n",
        "d_model = 8\n",
        "head_count = 2\n",
        "multihead_concat = np.hstack((attention1,attention2))\n",
        "Wo = np.random.rand((d_v*head_count),d_model)\n",
        "twohead_attention = multihead_concat @ Wo\n",
        "\n",
        "print(twohead_attention)\n"
      ],
      "metadata": {
        "id": "eSSWShmBI7M4",
        "outputId": "94654e99-8f19-417b-cf8a-f49981326a62",
        "colab": {
          "base_uri": "https://localhost:8080/"
        }
      },
      "execution_count": 8,
      "outputs": [
        {
          "output_type": "stream",
          "name": "stdout",
          "text": [
            "[[ 6.22777553 10.88303612  5.56724201  8.96095745  8.68960264 10.54191176\n",
            "   9.22992021  5.92578856]\n",
            " [ 6.37397894 11.2053997   5.74213567  9.15134465  8.89992414 10.90573632\n",
            "   9.38088719  6.0848721 ]\n",
            " [ 6.33017771 11.11144582  5.688958    9.08357709  8.8288758  10.79056386\n",
            "   9.32464339  6.03910847]\n",
            " [ 6.1186441  10.6912329   5.47898962  8.79935428  8.52857801 10.35249616\n",
            "   9.04542051  5.82026677]]\n"
          ]
        }
      ]
    }
  ]
}