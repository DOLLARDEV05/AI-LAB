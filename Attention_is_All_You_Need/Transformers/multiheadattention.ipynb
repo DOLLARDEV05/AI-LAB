{
  "nbformat": 4,
  "nbformat_minor": 0,
  "metadata": {
    "colab": {
      "provenance": [],
      "authorship_tag": "ABX9TyPF9Ns1hKUiYhy4powHjY44",
      "include_colab_link": true
    },
    "kernelspec": {
      "name": "python3",
      "display_name": "Python 3"
    },
    "language_info": {
      "name": "python"
    }
  },
  "cells": [
    {
      "cell_type": "markdown",
      "metadata": {
        "id": "view-in-github",
        "colab_type": "text"
      },
      "source": [
        "<a href=\"https://colab.research.google.com/github/DOLLARDEV05/AI-LAB/blob/main/Attention_is_All_You_Need/Transformers/multiheadattention.ipynb\" target=\"_parent\"><img src=\"https://colab.research.google.com/assets/colab-badge.svg\" alt=\"Open In Colab\"/></a>"
      ]
    },
    {
      "cell_type": "code",
      "execution_count": 19,
      "metadata": {
        "colab": {
          "base_uri": "https://localhost:8080/"
        },
        "id": "mSjzMpz1K2cK",
        "outputId": "a7d0e442-44e8-48a3-a6db-cb7c857ed91f"
      },
      "outputs": [
        {
          "output_type": "stream",
          "name": "stdout",
          "text": [
            "hello multihead attention\n"
          ]
        }
      ],
      "source": [
        "print(\"hello multihead attention\")"
      ]
    },
    {
      "cell_type": "code",
      "source": [
        "import numpy as np\n",
        "import math\n",
        "\n",
        "sentence = \"My cat is lazy\"\n",
        "\n",
        "tokens = sentence.lower().split()\n",
        "\n",
        "vocab = {word: idx for idx, word in enumerate(set(tokens))}\n",
        "\n",
        "token_ids = np.array([vocab[word] for word in tokens])\n",
        "\n",
        "d_model = 4\n",
        "embedding = np.random.rand(len(tokens),d_model)\n",
        "\n",
        "embedding_token = np.array([embedding[vocab[token]] for token in tokens])\n",
        "\n",
        "\n",
        "for embedding in range(len(embedding_token)):\n",
        "  for value in range(d_model):\n",
        "    if value % 2 == 0:\n",
        "      temp = math.sin(embedding/10000**((2*(value//2))/d_model))\n",
        "      embedding_token[embedding,value]=embedding_token[embedding,value]+temp\n",
        "    elif value % 2 == 1:\n",
        "      temp = math.cos(embedding/10000**((2*(value//2))/d_model))\n",
        "      embedding_token[embedding,value]=embedding_token[embedding,value]+temp\n",
        "    else:\n",
        "      print(\"error\")\n",
        "\n",
        "W_Q = np.random.rand(d_model,d_model)\n",
        "W_K = np.random.rand(d_model,d_model)\n",
        "W_V = np.random.rand(d_model,d_model)\n",
        "\n",
        "\n",
        "Q = embedding_token @ W_Q\n",
        "K = embedding_token @ W_K\n",
        "V = embedding_token @ W_V\n",
        "\n",
        "pre_softmax = (Q @ K.T)/np.sqrt(d_model)\n",
        "\n",
        "for vector in pre_softmax:\n",
        "  row_max = np.max(vector,axis=0)\n",
        "  for element in range(len(vector)):\n",
        "    vector[element] = np.exp(vector[element] - row_max)\n",
        "  vector /= np.sum(vector)\n",
        "\n",
        "\n",
        "softmax = pre_softmax.copy()\n"
      ],
      "metadata": {
        "id": "gIrny2mfK7fO"
      },
      "execution_count": 20,
      "outputs": []
    },
    {
      "cell_type": "code",
      "source": [
        "# next steps make two single head attention work in parallel\n",
        "# and also make the simple logic of hstacking the outputs of each head and then\n",
        "# matmul with the weighted matrix Wo. that is it for the multi head!"
      ],
      "metadata": {
        "id": "dOC5ACgsSL4g"
      },
      "execution_count": 21,
      "outputs": []
    },
    {
      "cell_type": "code",
      "source": [
        "import numpy as np\n",
        "import math\n",
        "\n",
        "sentence = \"My cat is lazy\"\n",
        "\n",
        "tokens = sentence.lower().split()\n",
        "\n",
        "vocab = {word: idx for idx, word in enumerate(set(tokens))}\n",
        "\n",
        "token_ids = np.array([vocab[word] for word in tokens])\n",
        "\n",
        "d_model = 4\n",
        "embedding = np.random.rand(len(tokens),d_model)\n",
        "\n",
        "embedding_token = np.array([embedding[vocab[token]] for token in tokens])\n",
        "\n",
        "\n",
        "for embedding in range(len(embedding_token)):\n",
        "  for value in range(d_model):\n",
        "    if value % 2 == 0:\n",
        "      temp = math.sin(embedding/10000**((2*(value//2))/d_model))\n",
        "      embedding_token[embedding,value]=embedding_token[embedding,value]+temp\n",
        "    elif value % 2 == 1:\n",
        "      temp = math.cos(embedding/10000**((2*(value//2))/d_model))\n",
        "      embedding_token[embedding,value]=embedding_token[embedding,value]+temp\n",
        "    else:\n",
        "      print(\"error\")\n",
        "\n",
        "W_Q2 = np.random.rand(d_model,d_model)\n",
        "W_K2 = np.random.rand(d_model,d_model)\n",
        "W_V2 = np.random.rand(d_model,d_model)\n",
        "\n",
        "\n",
        "Q = embedding_token @ W_Q2\n",
        "K = embedding_token @ W_K2\n",
        "V = embedding_token @ W_V2\n",
        "\n",
        "pre_softmax2 = (Q @ K.T)/np.sqrt(d_model)\n",
        "\n",
        "for vector in pre_softmax2:\n",
        "  row_max = np.max(vector,axis=0)\n",
        "  for element in range(len(vector)):\n",
        "    vector[element] = np.exp(vector[element] - row_max)\n",
        "  vector /= np.sum(vector)\n",
        "\n",
        "\n",
        "softmax2 = pre_softmax2.copy()\n",
        "print(softmax,\"\\n\\n\\n\\n\\n\",softmax2)"
      ],
      "metadata": {
        "id": "Kn9RlpsZYxW8",
        "outputId": "159b7897-94cc-4327-82a7-ac0d43075b0d",
        "colab": {
          "base_uri": "https://localhost:8080/"
        }
      },
      "execution_count": 22,
      "outputs": [
        {
          "output_type": "stream",
          "name": "stdout",
          "text": [
            "[[0.12162996 0.5681372  0.29353068 0.01670215]\n",
            " [0.12515436 0.57109301 0.28717527 0.01657735]\n",
            " [0.11938587 0.60149863 0.26785603 0.01125947]\n",
            " [0.20084299 0.45238041 0.28970759 0.05706901]] \n",
            "\n",
            "\n",
            "\n",
            "\n",
            " [[0.11389249 0.51473968 0.36712964 0.00423819]\n",
            " [0.08660188 0.5315276  0.37917468 0.00269584]\n",
            " [0.124762   0.46701521 0.39496205 0.01326073]\n",
            " [0.23497552 0.33751503 0.31849388 0.10901557]]\n"
          ]
        }
      ]
    }
  ]
}